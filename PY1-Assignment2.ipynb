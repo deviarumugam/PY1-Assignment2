{
 "cells": [
  {
   "cell_type": "code",
   "execution_count": 3,
   "metadata": {
    "scrolled": false
   },
   "outputs": [],
   "source": [
    "# Reduce Function\n",
    "# 1.1   Write a Python Program to implement your own myreduce() function which works eactly like \n",
    "# Python's built-in function reduce() "
   ]
  },
  {
   "cell_type": "code",
   "execution_count": null,
   "metadata": {},
   "outputs": [],
   "source": [
    "def myreduce(x1):\n",
    " length=len(x1)\n",
    " i=0\n",
    " if i<length:\n",
    "     k=1\n",
    "     x2=[]\n",
    "     x3=x1[k]+x1[i]\n",
    "     x1[k]=x3\n",
    "     i=i+2\n",
    "     x2.append(x3)\n",
    "     if i<length:\n",
    "      x3=x1[k]+x1[i]   \n",
    "      x1[k]=x3\n",
    "      i=i+1\n",
    "      x2.append(x3)\n",
    "     if i<length:\n",
    "      x3=x1[k]+x1[i]   \n",
    "      x1[k]=x3\n",
    "      x2.append(x3)\n",
    " return x2    "
   ]
  },
  {
   "cell_type": "code",
   "execution_count": 4,
   "metadata": {
    "scrolled": true
   },
   "outputs": [
    {
     "data": {
      "text/plain": [
       "[9, 12, 15]"
      ]
     },
     "execution_count": 4,
     "metadata": {},
     "output_type": "execute_result"
    }
   ],
   "source": [
    "a1=[5,4,3,3]\n",
    "myreduce(a1)"
   ]
  },
  {
   "cell_type": "code",
   "execution_count": 27,
   "metadata": {},
   "outputs": [],
   "source": [
    "#Reduce Function\n",
    "def myreduce(l1):\n",
    "    res=sum(l1)\n",
    "    return res"
   ]
  },
  {
   "cell_type": "code",
   "execution_count": 29,
   "metadata": {},
   "outputs": [
    {
     "data": {
      "text/plain": [
       "15"
      ]
     },
     "execution_count": 29,
     "metadata": {},
     "output_type": "execute_result"
    }
   ],
   "source": [
    "l1=[5,4,3,3]\n",
    "myreduce(l1)"
   ]
  },
  {
   "cell_type": "code",
   "execution_count": null,
   "metadata": {},
   "outputs": [],
   "source": [
    "# 1.2   Write a Python program to implement your own myfilter() function which works eactly like \n",
    "# Python's built-in function filter()   "
   ]
  },
  {
   "cell_type": "code",
   "execution_count": 190,
   "metadata": {},
   "outputs": [],
   "source": [
    "#Filter Function\n",
    "def myfunc(l2):\n",
    "    if l2%3==0:\n",
    "     return True\n",
    "def myfilter(l1):\n",
    "    l3=myfunc(l1)\n",
    "    if l3==True:\n",
    "        str=\"The number is Divisible by 3\"\n",
    "        return str\n",
    "    else:\n",
    "        return []"
   ]
  },
  {
   "cell_type": "code",
   "execution_count": 191,
   "metadata": {},
   "outputs": [
    {
     "data": {
      "text/plain": [
       "'The number is Divisible by 3'"
      ]
     },
     "execution_count": 191,
     "metadata": {},
     "output_type": "execute_result"
    }
   ],
   "source": [
    "myfilter(3)"
   ]
  },
  {
   "cell_type": "code",
   "execution_count": 187,
   "metadata": {},
   "outputs": [
    {
     "data": {
      "text/plain": [
       "[]"
      ]
     },
     "execution_count": 187,
     "metadata": {},
     "output_type": "execute_result"
    }
   ],
   "source": [
    "myfilter(4)"
   ]
  },
  {
   "cell_type": "code",
   "execution_count": null,
   "metadata": {},
   "outputs": [],
   "source": [
    "# 2.   Implement List comprehensions to produce the following lists.  \n",
    "# Write List comprehensions to produce the following Lists  \n",
    "# 'A', 'C', 'A', 'D', 'G', 'I', L,  D  \n",
    "# '', '', '', '', 'y', 'yy', 'yyy', 'yyyy', 'z', 'zz', 'zzz', 'zzzz'  \n",
    "# '', 'y', 'z', '', 'yy', 'zz', '', 'yy', 'zz', '', 'yyyy', 'zzzz'  \n",
    "# 2, 3, 4, 3, 4, 5, 4, 5,   \n",
    "# 2, 3, 4, 5, 3, 4, 5, , 4, 5, , 7, 5, , 7,   \n",
    "# (1, 1), (2, 1), (3, 1), (1, 2), (2, 2), (3, 2), (1, 3), (2, 3), (3, 3) "
   ]
  },
  {
   "cell_type": "code",
   "execution_count": 80,
   "metadata": {
    "scrolled": false
   },
   "outputs": [
    {
     "name": "stdout",
     "output_type": "stream",
     "text": [
      "['A', 'C', 'A', 'D', 'G', 'I', 'L', 'D']\n",
      "['x', 'xx', 'xxx', 'xxxx', 'y', 'yy', 'yyy', 'yyyy', 'z', 'zz', 'zzz', 'zzzz']\n",
      "['x', 'y', 'z', 'xx', 'yy', 'zz', 'xxx', 'yyy', 'zzz', 'xxxx', 'yyyy', 'zzzz']\n",
      "[[2], [3], [4], [3], [4], [5], [4], [5], [6]]\n",
      "[[2, 3, 4, 5], [3, 4, 5, 6], [4, 5, 6, 7], [5, 6, 7, 8]]\n",
      "[(1, 1), (1, 2), (1, 3), (2, 1), (2, 2), (2, 3), (3, 1), (3, 2), (3, 3)]\n"
     ]
    }
   ],
   "source": [
    "#['A', 'C', 'A', 'D', 'G', 'I', ’L’, ‘ D’] \n",
    "str1=\"ACADGILD\"\n",
    "list1=[i for i in str1]\n",
    "print(list1)\n",
    "\n",
    "#['x', 'xx', 'xxx', 'xxxx', 'y', 'yy', 'yyy', 'yyyy', 'z', 'zz', 'zzz', 'zzzz']\n",
    "list2=['x','y','z']\n",
    "list3=[j*i for j in list2 for i in range(1,5)]\n",
    "print(str(list3))\n",
    "\n",
    "#['x', 'y', 'z', 'xx', 'yy', 'zz', 'xx', 'yy', 'zz', 'xxxx', 'yyyy', 'zzzz'] \n",
    "list2=['x','y','z']\n",
    "list3=[i*j for i in range(1,5) for j in list2]\n",
    "print(str(list3))\n",
    "\n",
    "#[[2], [3], [4], [3], [4], [5], [4], [5], [6]] \n",
    "list4=[2,3,4]\n",
    "list5=[[i+x] for i in list4 for x in range(0,3)]\n",
    "print(str(list5))\n",
    "\n",
    "#[[2, 3, 4, 5], [3, 4, 5, 6], [4, 5, 6, 7], [5, 6, 7, 8]] \n",
    "list6=[[(x),(x+1),(x+2),(x+3)] for x in range(2,6)]\n",
    "print(str(list6))\n",
    "\n",
    "#[(1, 1), (2, 1), (3, 1), (1, 2), (2, 2), (3, 2), (1, 3), (2, 3), (3, 3)] \n",
    "list7=[1,2,3]\n",
    "list8=[(i,j) for i in list7 for j in list7]\n",
    "print(str(list8))"
   ]
  },
  {
   "cell_type": "code",
   "execution_count": 63,
   "metadata": {},
   "outputs": [],
   "source": [
    "# 3. Implement a function longestWord() that takes a list of words and returns the longest one.   \n",
    "def longestword(list1):\n",
    "    list2=max(list1,key=len)\n",
    "    print(list2)    "
   ]
  },
  {
   "cell_type": "code",
   "execution_count": 64,
   "metadata": {},
   "outputs": [
    {
     "name": "stdout",
     "output_type": "stream",
     "text": [
      "elephant\n"
     ]
    }
   ],
   "source": [
    "l=['elephant','bat','tiger']\n",
    "longestword(l)"
   ]
  },
  {
   "cell_type": "code",
   "execution_count": 76,
   "metadata": {},
   "outputs": [],
   "source": [
    "#1.1 Write a Python Program(with class concepts) to find the area of the triangle using the below formula.  \n",
    "#    area = (s*(s-a)*(s-b)*(s-c)) ** 0.5  \n",
    "#    Function to take the length of the sides of triangle from user should be defined in the parent class \n",
    "#    and function to calculate the area should be defined in subclass. \n",
    "class mytriangle:\n",
    "        def __init__(self,a,b,c):\n",
    "         self.a1=a\n",
    "         self.b1=b\n",
    "         self.c1=c\n",
    "        def input(self):\n",
    "         self.a1=int(input(\"Enter side1:\"))\n",
    "         self.b1=int(input(\"Enter side2:\"))\n",
    "         self.c1=int(input(\"Enter side3:\"))\n",
    "class myarea(mytriangle):\n",
    "        #def __init__(self,a,b,c):\n",
    "         #mytriangle.__init__(self,a,b,c)\n",
    "         #super(myarea,self).__init__(*args)\n",
    "        def __init__(self):\n",
    "         mytriangle.input(self)   \n",
    "        def findarea(self):\n",
    "         a1,b1,c1=self.a1,self.b1,self.c1\n",
    "         s=(a1+b1+c1)/2\n",
    "         area=(s*(s-a1)*(s-b1)*(s-c1))**0.5\n",
    "         print('area is %0.2f'%area)         "
   ]
  },
  {
   "cell_type": "code",
   "execution_count": 78,
   "metadata": {},
   "outputs": [
    {
     "name": "stdout",
     "output_type": "stream",
     "text": [
      "Enter side1:4\n",
      "Enter side2:5\n",
      "Enter side3:6\n",
      "area is 9.92\n"
     ]
    }
   ],
   "source": [
    "x=myarea()\n",
    "x.findarea()"
   ]
  },
  {
   "cell_type": "code",
   "execution_count": null,
   "metadata": {},
   "outputs": [],
   "source": [
    "# 1.2  Write a function filterlongwords() that takes a list of words and an integer n and \n",
    "# returns the list of words that are longer than n. \n",
    "def filter_long_words(word,n): \n",
    "    length=len(word) \n",
    "    if length>n: \n",
    "        str=\"The List of words are longer than the interger\" \n",
    "        print(str) \n",
    "        return word \n",
    "    else: \n",
    "        str=\"The List of words are shorter than the integer\"\n",
    "        return str"
   ]
  },
  {
   "cell_type": "code",
   "execution_count": 76,
   "metadata": {},
   "outputs": [
    {
     "data": {
      "text/plain": [
       "'The List of words are shorter than the integer'"
      ]
     },
     "execution_count": 76,
     "metadata": {},
     "output_type": "execute_result"
    }
   ],
   "source": [
    "filter_long_words(['word','list','new'],4)"
   ]
  },
  {
   "cell_type": "code",
   "execution_count": 77,
   "metadata": {},
   "outputs": [
    {
     "name": "stdout",
     "output_type": "stream",
     "text": [
      "The List of words are longer than the interger\n"
     ]
    },
    {
     "data": {
      "text/plain": [
       "['new', 'few', 'see', 'bee']"
      ]
     },
     "execution_count": 77,
     "metadata": {},
     "output_type": "execute_result"
    }
   ],
   "source": [
    "filter_long_words(['new','few','see','bee'],2)"
   ]
  },
  {
   "cell_type": "code",
   "execution_count": 5,
   "metadata": {},
   "outputs": [
    {
     "name": "stdout",
     "output_type": "stream",
     "text": [
      "[2, 3, 4]\n"
     ]
    }
   ],
   "source": [
    "#2.1 Write a Python program using function concept that maps  list of words into a list of integers \n",
    "#    representing the lengths of the corresponding words.  \n",
    "#    Hint: If a list [ ab,cde,erty] is passed on to the python function \n",
    "#    output should come as [2,3,4]  Here 2,3 and 4 are the lengths of the words in the list. \n",
    "\n",
    "def mywordlength(word):\n",
    "  return len(word)\n",
    "x=map(mywordlength,('ad','cde','erty'))\n",
    "print(list(x)) "
   ]
  },
  {
   "cell_type": "code",
   "execution_count": 28,
   "metadata": {},
   "outputs": [],
   "source": [
    "#2.2  Write a Python function which takes a character (i.e. a string of length 1)\n",
    "#     and returns True if it is a vowel, False otherwise.   \n",
    "\n",
    "def myvowels(v):\n",
    "    if v in \"a,e,i,o,u\":\n",
    "     str=\"This is vowel\"\n",
    "     return str\n",
    "    else:\n",
    "     str=\"This is not vowel\"\n",
    "     return str"
   ]
  },
  {
   "cell_type": "code",
   "execution_count": 55,
   "metadata": {},
   "outputs": [
    {
     "data": {
      "text/plain": [
       "'This is vowel'"
      ]
     },
     "execution_count": 55,
     "metadata": {},
     "output_type": "execute_result"
    }
   ],
   "source": [
    "myvowels('a')"
   ]
  },
  {
   "cell_type": "code",
   "execution_count": 54,
   "metadata": {},
   "outputs": [
    {
     "data": {
      "text/plain": [
       "'This is not vowel'"
      ]
     },
     "execution_count": 54,
     "metadata": {},
     "output_type": "execute_result"
    }
   ],
   "source": [
    "myvowels('z')"
   ]
  }
 ],
 "metadata": {
  "kernelspec": {
   "display_name": "Python 3",
   "language": "python",
   "name": "python3"
  },
  "language_info": {
   "codemirror_mode": {
    "name": "ipython",
    "version": 3
   },
   "file_extension": ".py",
   "mimetype": "text/x-python",
   "name": "python",
   "nbconvert_exporter": "python",
   "pygments_lexer": "ipython3",
   "version": "3.7.4"
  }
 },
 "nbformat": 4,
 "nbformat_minor": 2
}
